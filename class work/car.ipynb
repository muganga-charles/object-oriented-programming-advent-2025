{
 "cells": [
  {
   "cell_type": "code",
   "execution_count": 58,
   "id": "7cf6703d",
   "metadata": {},
   "outputs": [],
   "source": [
    "class Engine:\n",
    "    def __init__(self,sound,type):\n",
    "        self.sound = sound\n",
    "        self.type = type\n",
    "\n",
    "    def start(self):\n",
    "        print(f\"{self.type} engine started with {self.sound}\")\n",
    "\n",
    "    def stop(self):\n",
    "        print(\"Engine stopped\")"
   ]
  },
  {
   "cell_type": "code",
   "execution_count": 59,
   "id": "1ace73da",
   "metadata": {},
   "outputs": [],
   "source": [
    "class EngineTypes(Engine):\n",
    "    def __init__(self, sound, type):\n",
    "         super().__init__(sound, type)\n",
    "    def start(self):\n",
    "            Engine.start(self)\n",
    "\n",
    "    def stop(self):\n",
    "        Engine.stop(self)"
   ]
  },
  {
   "cell_type": "code",
   "execution_count": 60,
   "id": "ff52eb54",
   "metadata": {},
   "outputs": [],
   "source": [
    "class Car:\n",
    "    def __init__(self,engine_type: EngineTypes):\n",
    "        self.engine_type = engine_type\n",
    "        \n",
    "    def initialize(self):\n",
    "        print(\"Car is started\")\n",
    "\n",
    "    def start(self):\n",
    "        self.engine_type.start()\n",
    "        print(\"The car the has started.\")\n",
    "\n",
    "    def stop(self):\n",
    "        self.engine_type.stop()\n",
    "        print(\"The car the has stoped.\")\n"
   ]
  },
  {
   "cell_type": "code",
   "execution_count": 61,
   "id": "b438f61c",
   "metadata": {},
   "outputs": [
    {
     "name": "stdout",
     "output_type": "stream",
     "text": [
      "Car is started\n",
      "Petrol engine started with Roar\n",
      "The car the has started.\n",
      "Engine stopped\n",
      "The car the has stoped.\n"
     ]
    }
   ],
   "source": [
    "if __name__ == \"__main__\":\n",
    "    petrol_engine = EngineTypes(\"Roar\",\"Petrol\")\n",
    "    petrol_car = Car(petrol_engine)\n",
    "    \n",
    "    petrol_car.initialize()\n",
    "    petrol_car.start()\n",
    "    petrol_car.stop()"
   ]
  },
  {
   "cell_type": "code",
   "execution_count": 62,
   "id": "da61b0f7",
   "metadata": {},
   "outputs": [
    {
     "name": "stdout",
     "output_type": "stream",
     "text": [
      "Car is started\n",
      "Petrol engine started with Roar\n",
      "The car the has started.\n",
      "Engine stopped\n",
      "The car the has stoped.\n",
      "\n",
      "\n",
      "Car is started\n",
      "Diesel engine started with Rumble\n",
      "The car the has started.\n",
      "Engine stopped\n",
      "The car the has stoped.\n",
      "\n",
      "\n",
      "Car is started\n",
      "Electric engine started with Silently\n",
      "The car the has started.\n",
      "Engine stopped\n",
      "The car the has stoped.\n",
      "\n",
      "\n",
      "Car is started\n",
      "Gas engine started with Hiss\n",
      "The car the has started.\n",
      "Engine stopped\n",
      "The car the has stoped.\n",
      "\n",
      "\n"
     ]
    }
   ],
   "source": [
    "if __name__ == \"__main__\":\n",
    "    vehicles = [[\"Roar\",\"Petrol\"], [\"Rumble\", \"Diesel\"], [\"Silently\", \"Electric\"],[\"Hiss\", \"Gas\"]]\n",
    "    for car in vehicles:\n",
    "        engines = EngineTypes(car[0], car[1])\n",
    "        current_car = Car(engines)\n",
    "        \n",
    "        current_car.initialize()\n",
    "        current_car.start()\n",
    "        current_car.stop()\n",
    "\n",
    "        print(\"\\n\")"
   ]
  }
 ],
 "metadata": {
  "kernelspec": {
   "display_name": "Python 3",
   "language": "python",
   "name": "python3"
  },
  "language_info": {
   "codemirror_mode": {
    "name": "ipython",
    "version": 3
   },
   "file_extension": ".py",
   "mimetype": "text/x-python",
   "name": "python",
   "nbconvert_exporter": "python",
   "pygments_lexer": "ipython3",
   "version": "3.13.3"
  }
 },
 "nbformat": 4,
 "nbformat_minor": 5
}
