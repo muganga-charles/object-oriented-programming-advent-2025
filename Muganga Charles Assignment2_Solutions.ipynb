{
 "cells": [
  {
   "cell_type": "markdown",
   "id": "deaae475",
   "metadata": {},
   "source": [
    "# Assignment 2 Solutions\n",
    "---\n",
    "**Name:** Muganga Charles  \n",
    "**Access No.:** B35391\n",
    "\n",
    "**Course:** Object Oriented Programming with Python"
   ]
  },
  {
   "cell_type": "markdown",
   "id": "7733205b",
   "metadata": {},
   "source": [
    "#### Question One: Electricity billing optimization"
   ]
  },
  {
   "cell_type": "code",
   "execution_count": 1,
   "id": "93742580",
   "metadata": {},
   "outputs": [],
   "source": [
    "#### generated sample data\n",
    "customers = ['Bosco', 'Jane', 'Isaac', 'Maria', 'Paul', 'Sarah', 'Peter', 'Aisha', 'Mark', 'Grace']\n",
    "units = [245, 600, 480, 700, 520, 340, 800, 260, 430, 620]\n",
    "connection_types = ['Domestic', 'Commercial', 'Domestic', 'Commercial', 'Commercial',\n",
    "                    'Domestic', 'Commercial', 'Domestic', 'Domestic', 'Commercial']"
   ]
  },
  {
   "cell_type": "markdown",
   "id": "6c71e589",
   "metadata": {},
   "source": [
    "#### 1.1 computing total bills using zip() and map() with a lambda"
   ]
  },
  {
   "cell_type": "code",
   "execution_count": 2,
   "id": "85adfa15",
   "metadata": {},
   "outputs": [],
   "source": [
    "rates = {'Domestic': 820, 'Commercial': 1000}\n",
    "bills = list(map(lambda x: x[1] * rates[x[2]], zip(customers, units, connection_types)))"
   ]
  },
  {
   "cell_type": "markdown",
   "id": "64e8a668",
   "metadata": {},
   "source": [
    "####  1.2 filtering high-consumption customers (with units > 500)\n"
   ]
  },
  {
   "cell_type": "code",
   "execution_count": 3,
   "id": "f2a2b184",
   "metadata": {},
   "outputs": [],
   "source": [
    "high_consumers = list(filter(lambda u: u > 500, units))"
   ]
  },
  {
   "cell_type": "markdown",
   "id": "52ec2863",
   "metadata": {},
   "source": [
    "#### 1.3 Average bill function using *args"
   ]
  },
  {
   "cell_type": "code",
   "execution_count": 4,
   "id": "066a58fd",
   "metadata": {},
   "outputs": [
    {
     "data": {
      "text/plain": [
       "467910.0"
      ]
     },
     "execution_count": 4,
     "metadata": {},
     "output_type": "execute_result"
    }
   ],
   "source": [
    "def average_bill(*bills):\n",
    "    return sum(bills) / len(bills)\n",
    "\n",
    "avg = average_bill(*bills)\n",
    "avg"
   ]
  },
  {
   "cell_type": "markdown",
   "id": "f1d0637b",
   "metadata": {},
   "source": [
    "#### 1.4 Displaying the formatted results"
   ]
  },
  {
   "cell_type": "code",
   "execution_count": 7,
   "id": "2e9dfce9",
   "metadata": {},
   "outputs": [
    {
     "name": "stdout",
     "output_type": "stream",
     "text": [
      "Customer Bills:\n",
      "Bosco: UGX 200,900\n",
      "Jane: UGX 600,000\n",
      "Isaac: UGX 393,600\n",
      "Maria: UGX 700,000\n",
      "Paul: UGX 520,000\n",
      "Sarah: UGX 278,800\n",
      "Peter: UGX 800,000\n",
      "Aisha: UGX 213,200\n",
      "Mark: UGX 352,600\n",
      "Grace: UGX 620,000\n",
      "\n",
      "\n",
      "High Consumption (>500 units): [600, 700, 520, 800, 620]\n",
      "Average Bill: UGX 467,910\n"
     ]
    }
   ],
   "source": [
    "formatted = [f\"{name}: UGX {bill:,}\" for name, bill in zip(customers, bills)]\n",
    "print(\"Customer Bills:\")\n",
    "for f in formatted:\n",
    "    print(f)\n",
    "print(\"\\n\")\n",
    "print(\"High Consumption (>500 units):\", high_consumers)\n",
    "print(\"Average Bill: UGX\", f\"{avg:,.0f}\")"
   ]
  },
  {
   "cell_type": "markdown",
   "id": "dab28f87",
   "metadata": {},
   "source": [
    "### Question 2: Market basket price aggregator"
   ]
  },
  {
   "cell_type": "code",
   "execution_count": 8,
   "id": "81b38ddc",
   "metadata": {},
   "outputs": [],
   "source": [
    "mango_prices = [2500, 2700, 2600, 2800]\n",
    "orange_prices = [3000, 3200, 3100, 3050]\n",
    "apple_prices = [4500, 4600, 4550, 4700]"
   ]
  },
  {
   "cell_type": "markdown",
   "id": "41c60d01",
   "metadata": {},
   "source": [
    "#### 2.1 using zip_longest() to handle missing prices "
   ]
  },
  {
   "cell_type": "code",
   "execution_count": 9,
   "id": "02118f70",
   "metadata": {},
   "outputs": [
    {
     "name": "stdout",
     "output_type": "stream",
     "text": [
      "(2500, 3000, 4500)\n",
      "(2700, 3200, 4600)\n",
      "(2600, 3100, 4550)\n",
      "(2800, 3050, 4700)\n"
     ]
    }
   ],
   "source": [
    "from itertools import zip_longest\n",
    "\n",
    "for combo in zip_longest(mango_prices, orange_prices, apple_prices, fillvalue='N/A'):\n",
    "    print(combo)"
   ]
  },
  {
   "cell_type": "markdown",
   "id": "93b9bb84",
   "metadata": {},
   "source": [
    "#### 2.2 Computing average price per fruit"
   ]
  },
  {
   "cell_type": "code",
   "execution_count": 11,
   "id": "1e5c601a",
   "metadata": {},
   "outputs": [
    {
     "data": {
      "text/plain": [
       "{'Mango': 2650.0, 'Orange': 3087.5, 'Apple': 4587.5}"
      ]
     },
     "execution_count": 11,
     "metadata": {},
     "output_type": "execute_result"
    }
   ],
   "source": [
    "avg = lambda lst: sum(lst)/len(lst)\n",
    "\n",
    "fruit_avgs = {\n",
    "    \"Mango\": avg(mango_prices),\n",
    "    \"Orange\": avg(orange_prices),\n",
    "    \"Apple\": avg(apple_prices)\n",
    "}\n",
    "\n",
    "fruit_avgs"
   ]
  },
  {
   "cell_type": "markdown",
   "id": "f8216ddd",
   "metadata": {},
   "source": [
    "#### 2.3 A generator for fruits above average price > 3000"
   ]
  },
  {
   "cell_type": "code",
   "execution_count": 14,
   "id": "d77e9abe",
   "metadata": {},
   "outputs": [
    {
     "name": "stdout",
     "output_type": "stream",
     "text": [
      "Fruits above average price: Orange, Apple\n"
     ]
    }
   ],
   "source": [
    "above_avg = (fruit for fruit, price in fruit_avgs.items() if price > 3000)\n",
    "\n",
    "print(\"Fruits above average price:\", \", \".join(list(above_avg)))\n"
   ]
  },
  {
   "cell_type": "markdown",
   "id": "b5b6740a",
   "metadata": {},
   "source": [
    "#### Question 3: District temperature tracker"
   ]
  },
  {
   "cell_type": "code",
   "execution_count": 15,
   "id": "b12c7f97",
   "metadata": {},
   "outputs": [],
   "source": [
    "\n",
    "months = ['Jan','Feb','Mar','Apr','May','Jun','Jul','Aug','Sep','Oct','Nov','Dec']\n",
    "kampala = [28, 30, 29, 27, 26, 29, 30, 31, 32, 30, 29, 28]\n",
    "gulu =  [25, 26, 27, 27, 28, 29, 30, 30, 29, 27, 26, 25] \n",
    "mbarara = [22, 23, 23, 24, 25, 25, 26, 27, 27, 26, 24, 23]"
   ]
  },
  {
   "cell_type": "markdown",
   "id": "c3c1562c",
   "metadata": {},
   "source": [
    "#### 3.1 Converting all the temperatures to Fahrenheit using map\n"
   ]
  },
  {
   "cell_type": "code",
   "execution_count": null,
   "id": "157ecc43",
   "metadata": {},
   "outputs": [
    {
     "name": "stdout",
     "output_type": "stream",
     "text": [
      "Kampala temperatures in Fahrenheit: [82.4, 86.0, 84.2, 80.6, 78.8, 84.2, 86.0, 87.8, 89.6, 86.0, 84.2, 82.4]\n",
      "Gulu temperatures in Fahrenheit: [77.0, 78.8, 80.6, 80.6, 82.4, 84.2, 86.0, 86.0, 84.2, 80.6, 78.8, 77.0]\n",
      "Mbarara temperatures in Fahrenheit: [71.6, 73.4, 73.4, 75.2, 77.0, 77.0, 78.8, 80.6, 80.6, 78.8, 75.2, 73.4]\n"
     ]
    }
   ],
   "source": [
    "kampala_f = list(map(lambda c: (c * 9/5) + 32, kampala))\n",
    "gulu_f = list(map(lambda c: (c * 9/5) + 32, gulu))\n",
    "mbarara_f = list(map(lambda c: (c * 9/5) + 32, mbarara))\n",
    "\n",
    "print(\"Kampala temperatures in Fahrenheit:\", kampala_f)\n",
    "print(\"Gulu temperatures in Fahrenheit:\", gulu_f)\n",
    "print(\"Mbarara temperatures in Fahrenheit:\", mbarara_f)"
   ]
  },
  {
   "cell_type": "markdown",
   "id": "a4a7d525",
   "metadata": {},
   "source": [
    "#### 3.2 Pair months with temps"
   ]
  },
  {
   "cell_type": "code",
   "execution_count": 19,
   "id": "dbe55eb7",
   "metadata": {},
   "outputs": [
    {
     "name": "stdout",
     "output_type": "stream",
     "text": [
      "Month-Temperature pairs: [('Jan', 28), ('Feb', 30), ('Mar', 29), ('Apr', 27), ('May', 26), ('Jun', 29), ('Jul', 30), ('Aug', 31), ('Sep', 32), ('Oct', 30), ('Nov', 29), ('Dec', 28)]\n"
     ]
    }
   ],
   "source": [
    "month_temp_pairs = list(zip(months, kampala))\n",
    "print(\"Month-Temperature pairs:\", month_temp_pairs)"
   ]
  },
  {
   "cell_type": "markdown",
   "id": "24ad3a59",
   "metadata": {},
   "source": [
    "#### 3.3 Filter months > 30°C"
   ]
  },
  {
   "cell_type": "code",
   "execution_count": 20,
   "id": "8c38cd81",
   "metadata": {},
   "outputs": [
    {
     "name": "stdout",
     "output_type": "stream",
     "text": [
      "\n",
      "Months with temperature > 30°C: [('Aug', 31), ('Sep', 32)]\n"
     ]
    }
   ],
   "source": [
    "hot_months = list(filter(lambda pair: pair[1] > 30, month_temp_pairs))\n",
    "print(\"\\nMonths with temperature > 30°C:\", hot_months)"
   ]
  },
  {
   "cell_type": "markdown",
   "id": "862126ea",
   "metadata": {},
   "source": [
    "#### 3.4 Creating a generator to yield month names and temperatures above threshold."
   ]
  },
  {
   "cell_type": "code",
   "execution_count": 22,
   "id": "970fb64a",
   "metadata": {},
   "outputs": [],
   "source": [
    "def hot_months_generator(month_temp_pairs, threshold=30):\n",
    "    for month, temp in month_temp_pairs:\n",
    "        if temp > threshold:\n",
    "            yield month, temp"
   ]
  },
  {
   "cell_type": "markdown",
   "id": "4dd417c3",
   "metadata": {},
   "source": [
    "#### 3.5 Printing the Hot months in Kampala."
   ]
  },
  {
   "cell_type": "code",
   "execution_count": 23,
   "id": "1213a927",
   "metadata": {},
   "outputs": [
    {
     "name": "stdout",
     "output_type": "stream",
     "text": [
      "\n",
      "Hot months in Kampala: Aug - 31°C, Sep - 32°C\n"
     ]
    }
   ],
   "source": [
    "hot_months_gen = hot_months_generator(month_temp_pairs)\n",
    "hot_list = [f\"{month} - {temp}°C\" for month, temp in hot_months_gen]\n",
    "\n",
    "if hot_list:\n",
    "    print(\"\\nHot months in Kampala:\", \", \".join(hot_list))\n",
    "else:\n",
    "    print(\"\\nNo months above 30°C\")"
   ]
  },
  {
   "cell_type": "markdown",
   "id": "f3d1107b",
   "metadata": {},
   "source": [
    "### Q4: School Fees payment analyzer"
   ]
  },
  {
   "cell_type": "code",
   "execution_count": 24,
   "id": "912f82f8",
   "metadata": {},
   "outputs": [],
   "source": [
    "students = ['Alex', 'Grace', 'Sarah', 'Brian']\n",
    "installments = [\n",
    "    [150000, 200000, 250000],\n",
    "    [500000, 0, 200000],\n",
    "    [300000, 300000, 300000],\n",
    "    [400000, 100000, 0]\n",
    "]"
   ]
  },
  {
   "cell_type": "markdown",
   "id": "b703073c",
   "metadata": {},
   "source": [
    "#### 4.1 Using Lambda to sum valid payments and ignoring zeros\n"
   ]
  },
  {
   "cell_type": "code",
   "execution_count": 25,
   "id": "ee11b44b",
   "metadata": {},
   "outputs": [],
   "source": [
    "valid_sum = lambda lst: sum(x for x in lst if x > 0)"
   ]
  },
  {
   "cell_type": "markdown",
   "id": "bcbc2f07",
   "metadata": {},
   "source": [
    "### 4.2 Using map() to compute totals for each student"
   ]
  },
  {
   "cell_type": "code",
   "execution_count": 27,
   "id": "8b19e71e",
   "metadata": {},
   "outputs": [
    {
     "data": {
      "text/plain": [
       "[600000, 700000, 900000, 500000]"
      ]
     },
     "execution_count": 27,
     "metadata": {},
     "output_type": "execute_result"
    }
   ],
   "source": [
    "totals = list(map(valid_sum, installments))\n",
    "totals"
   ]
  },
  {
   "cell_type": "markdown",
   "id": "708ac616",
   "metadata": {},
   "source": [
    "#### 4.3 Combining names and totals using zip()"
   ]
  },
  {
   "cell_type": "code",
   "execution_count": 29,
   "id": "437d067a",
   "metadata": {},
   "outputs": [
    {
     "data": {
      "text/plain": [
       "[('Alex', 600000), ('Grace', 700000), ('Sarah', 900000), ('Brian', 500000)]"
      ]
     },
     "execution_count": 29,
     "metadata": {},
     "output_type": "execute_result"
    }
   ],
   "source": [
    "records = list(zip(students, totals))\n",
    "records"
   ]
  },
  {
   "cell_type": "markdown",
   "id": "6aa650e1",
   "metadata": {},
   "source": [
    "#### 4.4 Filtering cleared students (≥600,000)."
   ]
  },
  {
   "cell_type": "code",
   "execution_count": 31,
   "id": "5df4a8b0",
   "metadata": {},
   "outputs": [
    {
     "data": {
      "text/plain": [
       "[('Alex', 600000), ('Grace', 700000), ('Sarah', 900000)]"
      ]
     },
     "execution_count": 31,
     "metadata": {},
     "output_type": "execute_result"
    }
   ],
   "source": [
    "cleared = list(filter(lambda s: s[1] >= 600000, records))\n",
    "cleared"
   ]
  },
  {
   "cell_type": "markdown",
   "id": "7ffdc26b",
   "metadata": {},
   "source": [
    "#### 4.5 payment_summary(**kwargs) function to summarize payments"
   ]
  },
  {
   "cell_type": "code",
   "execution_count": 32,
   "id": "dfb5a746",
   "metadata": {},
   "outputs": [
    {
     "name": "stdout",
     "output_type": "stream",
     "text": [
      "Alex paid UGX 600,000\n",
      "Grace paid UGX 700,000\n",
      "Sarah paid UGX 900,000\n",
      "Brian paid UGX 500,000\n",
      "\n",
      "Cleared Students: [('Alex', 600000), ('Grace', 700000), ('Sarah', 900000)]\n"
     ]
    }
   ],
   "source": [
    "def payment_summary(**kwargs):\n",
    "    for name, amount in kwargs.items():\n",
    "        print(f\"{name} paid UGX {amount:,}\")\n",
    "\n",
    "payment_summary(**dict(records))\n",
    "\n",
    "print(\"\\nCleared Students:\", cleared)"
   ]
  },
  {
   "cell_type": "markdown",
   "id": "5f9d7f72",
   "metadata": {},
   "source": [
    "### Question 5: Agricultural yield estimator"
   ]
  },
  {
   "cell_type": "code",
   "execution_count": 34,
   "id": "4d69ede5",
   "metadata": {},
   "outputs": [],
   "source": [
    "## data\n",
    "\n",
    "districts = ['Bushenyi', 'Mityana', 'Kasese', 'Mbale']\n",
    "yield_data = [1200, 1500, 900, 1300]"
   ]
  },
  {
   "cell_type": "markdown",
   "id": "5416a3b4",
   "metadata": {},
   "source": [
    "### 5.1 Converting kg to tons (using 1 ton = 1000 kg)"
   ]
  },
  {
   "cell_type": "code",
   "execution_count": 37,
   "id": "ae97efe7",
   "metadata": {},
   "outputs": [
    {
     "data": {
      "text/plain": [
       "[1.2, 1.5, 0.9, 1.3]"
      ]
     },
     "execution_count": 37,
     "metadata": {},
     "output_type": "execute_result"
    }
   ],
   "source": [
    "to_tons = lambda kg: kg / 1000\n",
    "tons = [to_tons(y) for y in yield_data]\n",
    "tons"
   ]
  },
  {
   "cell_type": "markdown",
   "id": "d160a324",
   "metadata": {},
   "source": [
    "#### 5.2 Generator for >1 ton"
   ]
  },
  {
   "cell_type": "code",
   "execution_count": 43,
   "id": "49399c09",
   "metadata": {},
   "outputs": [],
   "source": [
    "above_one = (d for d, t in zip(districts, tons) if t > 1)"
   ]
  },
  {
   "cell_type": "markdown",
   "id": "fd318cb9",
   "metadata": {},
   "source": [
    "#### 5.3 Average yield computation using *args"
   ]
  },
  {
   "cell_type": "code",
   "execution_count": 41,
   "id": "b80dde0c",
   "metadata": {},
   "outputs": [
    {
     "data": {
      "text/plain": [
       "1.225"
      ]
     },
     "execution_count": 41,
     "metadata": {},
     "output_type": "execute_result"
    }
   ],
   "source": [
    "def avg_yield(*args):\n",
    "    return sum(args)/len(args)\n",
    "\n",
    "average = avg_yield(*tons)\n",
    "average"
   ]
  },
  {
   "cell_type": "markdown",
   "id": "8d7ff085",
   "metadata": {},
   "source": [
    "#### 5.4 Revenue computation using **kwargs"
   ]
  },
  {
   "cell_type": "code",
   "execution_count": 44,
   "id": "2858450a",
   "metadata": {},
   "outputs": [],
   "source": [
    "def compute_revenue(**kwargs):\n",
    "    for district, (tons, price) in kwargs.items():\n",
    "        print(f\"{district} produced {tons} tons — Revenue: UGX {tons * price:,.0f}\")\n",
    "\n",
    "price_updates = {'Bushenyi': (tons[0], 4000000), 'Mityana': (tons[1], 3800000),\n",
    "                 'Kasese': (tons[2], 5000000), 'Mbale': (tons[3], 4200000)}\n"
   ]
  },
  {
   "cell_type": "markdown",
   "id": "03f6e317",
   "metadata": {},
   "source": [
    "#### 5.5 Displaying the results in formatted manner"
   ]
  },
  {
   "cell_type": "code",
   "execution_count": 45,
   "id": "d28976cd",
   "metadata": {},
   "outputs": [
    {
     "name": "stdout",
     "output_type": "stream",
     "text": [
      "Average Yield: 1.23 tons\n",
      "Bushenyi produced 1.2 tons — Revenue: UGX 4,800,000\n",
      "Mityana produced 1.5 tons — Revenue: UGX 5,700,000\n",
      "Kasese produced 0.9 tons — Revenue: UGX 4,500,000\n",
      "Mbale produced 1.3 tons — Revenue: UGX 5,460,000\n"
     ]
    }
   ],
   "source": [
    "\n",
    "print(\"Average Yield:\", round(avg, 2), \"tons\")\n",
    "compute_revenue(**price_updates)\n"
   ]
  },
  {
   "cell_type": "markdown",
   "id": "565f0ef1",
   "metadata": {},
   "source": [
    "## Q6: Web data aggregation"
   ]
  },
  {
   "cell_type": "code",
   "execution_count": 46,
   "id": "daa0e670",
   "metadata": {},
   "outputs": [],
   "source": [
    "import requests\n",
    "sites = ['https://ucu.ac.ug', 'https://harba.ug', 'https://www.bou.or.ug']"
   ]
  },
  {
   "cell_type": "markdown",
   "id": "cab9fc07",
   "metadata": {},
   "source": [
    "#### 6.1 A function that takes *urls and uses requests.get() to return response codes. "
   ]
  },
  {
   "cell_type": "code",
   "execution_count": 50,
   "id": "f75063f9",
   "metadata": {},
   "outputs": [
    {
     "data": {
      "text/plain": [
       "[('https://ucu.ac.ug', 200),\n",
       " ('https://harba.ug', 200),\n",
       " ('https://www.bou.or.ug', 200)]"
      ]
     },
     "execution_count": 50,
     "metadata": {},
     "output_type": "execute_result"
    }
   ],
   "source": [
    "def check_sites(*urls):\n",
    "    responses = []\n",
    "    for url in urls:\n",
    "        try:\n",
    "            r = requests.get(url, timeout=5)\n",
    "            responses.append((url, r.status_code))\n",
    "        except Exception as e:\n",
    "            responses.append((url, 'Error'))\n",
    "    return responses\n",
    "\n",
    "results = check_sites(*sites)\n",
    "results"
   ]
  },
  {
   "cell_type": "markdown",
   "id": "863d1c22",
   "metadata": {},
   "source": [
    "### 6.2 filtering status 200"
   ]
  },
  {
   "cell_type": "code",
   "execution_count": 49,
   "id": "b175446b",
   "metadata": {},
   "outputs": [
    {
     "data": {
      "text/plain": [
       "['https://ucu.ac.ug', 'https://harba.ug', 'https://www.bou.or.ug']"
      ]
     },
     "execution_count": 49,
     "metadata": {},
     "output_type": "execute_result"
    }
   ],
   "source": [
    "\n",
    "active_sites = [url for url, code in results if code == 200]\n",
    "active_sites"
   ]
  },
  {
   "cell_type": "markdown",
   "id": "8fd2d6d8",
   "metadata": {},
   "source": [
    "####  6.3 Dictionary comprehension"
   ]
  },
  {
   "cell_type": "code",
   "execution_count": 52,
   "id": "5f3cbbb1",
   "metadata": {},
   "outputs": [
    {
     "data": {
      "text/plain": [
       "{'https://ucu.ac.ug': 200,\n",
       " 'https://harba.ug': 200,\n",
       " 'https://www.bou.or.ug': 200}"
      ]
     },
     "execution_count": 52,
     "metadata": {},
     "output_type": "execute_result"
    }
   ],
   "source": [
    "status_dict = {url: code for url, code in results}\n",
    "status_dict"
   ]
  },
  {
   "cell_type": "markdown",
   "id": "01cb2fbd",
   "metadata": {},
   "source": [
    "#### 6.4 Generator for 'Active Site' display"
   ]
  },
  {
   "cell_type": "code",
   "execution_count": 55,
   "id": "7187a733",
   "metadata": {},
   "outputs": [
    {
     "name": "stdout",
     "output_type": "stream",
     "text": [
      "Status Codes: {'https://ucu.ac.ug': 200, 'https://harba.ug': 200, 'https://www.bou.or.ug': 200}\n",
      "Active Site: https://ucu.ac.ug\n",
      "Active Site: https://harba.ug\n",
      "Active Site: https://www.bou.or.ug\n"
     ]
    }
   ],
   "source": [
    "active_gen = (f\"Active Site: {url}\" for url in active_sites)\n",
    "\n",
    "print(\"Status Codes:\", status_dict)\n",
    "print(\"\\n\".join(list(active_gen)))\n"
   ]
  }
 ],
 "metadata": {
  "kernelspec": {
   "display_name": "Python 3",
   "language": "python",
   "name": "python3"
  },
  "language_info": {
   "codemirror_mode": {
    "name": "ipython",
    "version": 3
   },
   "file_extension": ".py",
   "mimetype": "text/x-python",
   "name": "python",
   "nbconvert_exporter": "python",
   "pygments_lexer": "ipython3",
   "version": "3.13.3"
  }
 },
 "nbformat": 4,
 "nbformat_minor": 5
}
